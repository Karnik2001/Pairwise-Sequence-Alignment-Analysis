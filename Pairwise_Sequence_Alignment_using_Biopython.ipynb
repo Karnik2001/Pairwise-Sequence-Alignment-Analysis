{
  "nbformat": 4,
  "nbformat_minor": 0,
  "metadata": {
    "colab": {
      "provenance": []
    },
    "kernelspec": {
      "name": "python3",
      "display_name": "Python 3"
    },
    "language_info": {
      "name": "python"
    }
  },
  "cells": [
    {
      "cell_type": "code",
      "execution_count": null,
      "metadata": {
        "id": "pq9kKgRLU98I"
      },
      "outputs": [],
      "source": [
        "# import all of the necessary libraries\n",
        "from Bio import pairwise2\n",
        "from Bio.pairwise2 import format_alignment"
      ]
    },
    {
      "cell_type": "code",
      "source": [
        "# define two sequences to be aligned\n",
        "X = \"ATTGGC\"\n",
        "Y = \"ATG\"\n",
        "\n",
        "# perform a global alignment with a match score of 1 and gap penalty of 0\n",
        "alignments = pairwise2.align.globalxx(X, Y)\n",
        "\n",
        "# print each alignment in a human-readable format\n",
        "for a in alignments:\n",
        "    print(format_alignment(*a))"
      ],
      "metadata": {
        "colab": {
          "base_uri": "https://localhost:8080/"
        },
        "id": "dY63F941XXOO",
        "outputId": "a9c4e8d6-688a-4620-b716-fca98c519dd8"
      },
      "execution_count": 2,
      "outputs": [
        {
          "output_type": "stream",
          "name": "stdout",
          "text": [
            "ATTGGC\n",
            "| | | \n",
            "A-T-G-\n",
            "  Score=3\n",
            "\n",
            "ATTGGC\n",
            "||  | \n",
            "AT--G-\n",
            "  Score=3\n",
            "\n",
            "ATTGGC\n",
            "| ||  \n",
            "A-TG--\n",
            "  Score=3\n",
            "\n",
            "ATTGGC\n",
            "|| |  \n",
            "AT-G--\n",
            "  Score=3\n",
            "\n"
          ]
        }
      ]
    },
    {
      "cell_type": "code",
      "source": [
        "# define two new sequences for alignment\n",
        "X1 = \"ATTGGC\"\n",
        "Y1 = \"AAAGGC\"\n",
        "\n",
        "# perform a global alignment with a match score of 1 and gap penalty of 0\n",
        "alignments1 = pairwise2.align.globalxx(X1, Y1)\n",
        "\n",
        "# print each alignment in a human-readable format\n",
        "for a in alignments1:\n",
        "    print(format_alignment(*a))"
      ],
      "metadata": {
        "colab": {
          "base_uri": "https://localhost:8080/"
        },
        "id": "NfGO7btmYYsU",
        "outputId": "2a5d7caf-cc84-456f-faed-52f5bf657006"
      },
      "execution_count": 3,
      "outputs": [
        {
          "output_type": "stream",
          "name": "stdout",
          "text": [
            "ATT--GGC\n",
            "|    |||\n",
            "A--AAGGC\n",
            "  Score=4\n",
            "\n",
            "ATT-GGC\n",
            "| . |||\n",
            "A-AAGGC\n",
            "  Score=4\n",
            "\n",
            "ATT-GGC\n",
            "|.  |||\n",
            "AA-AGGC\n",
            "  Score=4\n",
            "\n",
            "-ATT-GGC\n",
            " |   |||\n",
            "AA--AGGC\n",
            "  Score=4\n",
            "\n",
            "AT-TGGC\n",
            "|  .|||\n",
            "A-AAGGC\n",
            "  Score=4\n",
            "\n",
            "ATTGGC\n",
            "|..|||\n",
            "AAAGGC\n",
            "  Score=4\n",
            "\n",
            "-ATTGGC\n",
            " | .|||\n",
            "AA-AGGC\n",
            "  Score=4\n",
            "\n",
            "A-TTGGC\n",
            "| . |||\n",
            "AAA-GGC\n",
            "  Score=4\n",
            "\n",
            "-ATTGGC\n",
            " |. |||\n",
            "AAA-GGC\n",
            "  Score=4\n",
            "\n",
            "--ATTGGC\n",
            "  |  |||\n",
            "AAA--GGC\n",
            "  Score=4\n",
            "\n"
          ]
        }
      ]
    },
    {
      "cell_type": "code",
      "source": [
        "# define two new sequences for alignment\n",
        "X2 = \"TTTAAA\"\n",
        "Y2 = \"AATTAA\"\n",
        "\n",
        "# perform a global alignment with a match score of 1 and gap penalty of 0\n",
        "alignments2 = pairwise2.align.localxx(X2, Y2)\n",
        "\n",
        "# print each alignment in a human-readable format\n",
        "for a in alignments2:\n",
        "    print(format_alignment(*a))"
      ],
      "metadata": {
        "colab": {
          "base_uri": "https://localhost:8080/"
        },
        "id": "hHTIPavlZ39_",
        "outputId": "d3f04e7f-6c17-4ed9-dee0-5330b6802517"
      },
      "execution_count": 4,
      "outputs": [
        {
          "output_type": "stream",
          "name": "stdout",
          "text": [
            "2 TTAAA\n",
            "  || ||\n",
            "3 TT-AA\n",
            "  Score=4\n",
            "\n",
            "1 TTTAAA\n",
            "  | | ||\n",
            "3 T-T-AA\n",
            "  Score=4\n",
            "\n",
            "1 TTTAAA\n",
            "  ||  ||\n",
            "3 TT--AA\n",
            "  Score=4\n",
            "\n",
            "2 TTAAA\n",
            "  ||| |\n",
            "3 TTA-A\n",
            "  Score=4\n",
            "\n",
            "1 TTTAAA\n",
            "  | || |\n",
            "3 T-TA-A\n",
            "  Score=4\n",
            "\n",
            "1 TTTAAA\n",
            "  || | |\n",
            "3 TT-A-A\n",
            "  Score=4\n",
            "\n",
            "2 TTAA\n",
            "  ||||\n",
            "3 TTAA\n",
            "  Score=4\n",
            "\n",
            "1 TTTAA\n",
            "  | |||\n",
            "3 T-TAA\n",
            "  Score=4\n",
            "\n",
            "1 TTTAA\n",
            "  || ||\n",
            "3 TT-AA\n",
            "  Score=4\n",
            "\n"
          ]
        }
      ]
    },
    {
      "cell_type": "code",
      "source": [
        "# define two new sequences for alignment\n",
        "X3 = \"AGGCCT\"\n",
        "Y3 = \"GGCCTT\"\n",
        "\n",
        "# perform a global alignment with a match score of 1 and gap penalty of 0\n",
        "alignments3 = pairwise2.align.localxx(X3, Y3)\n",
        "\n",
        "# print each alignment in a human-readable format\n",
        "for a in alignments3:\n",
        "    print(format_alignment(*a))"
      ],
      "metadata": {
        "colab": {
          "base_uri": "https://localhost:8080/"
        },
        "id": "RqZcwhC4Z6cU",
        "outputId": "2380977b-37f5-4534-eb9b-65639a3c508e"
      },
      "execution_count": 5,
      "outputs": [
        {
          "output_type": "stream",
          "name": "stdout",
          "text": [
            "2 GGCC-T\n",
            "  |||| |\n",
            "1 GGCCTT\n",
            "  Score=5\n",
            "\n",
            "2 GGCCT\n",
            "  |||||\n",
            "1 GGCCT\n",
            "  Score=5\n",
            "\n"
          ]
        }
      ]
    },
    {
      "cell_type": "code",
      "source": [
        "# define two new sequences for alignment\n",
        "X4 = \"ATTGGC\"\n",
        "Y4 = \"ATG\"\n",
        "\n",
        "# perform a global alignment using globalms with specified scores\n",
        "alignments4 = pairwise2.align.globalms(X4, Y4, 2, -1, -0.5, -0.1)\n",
        "\n",
        "# print each alignment in a human-readable format\n",
        "for a in alignments4:\n",
        "    print(format_alignment(*a))"
      ],
      "metadata": {
        "colab": {
          "base_uri": "https://localhost:8080/"
        },
        "id": "WXYYuiCFeDFx",
        "outputId": "fc8f89d0-4b6f-4145-e368-bf8560dab308"
      },
      "execution_count": 7,
      "outputs": [
        {
          "output_type": "stream",
          "name": "stdout",
          "text": [
            "ATTGGC\n",
            "||  | \n",
            "AT--G-\n",
            "  Score=4.9\n",
            "\n",
            "ATTGGC\n",
            "| ||  \n",
            "A-TG--\n",
            "  Score=4.9\n",
            "\n",
            "ATTGGC\n",
            "|| |  \n",
            "AT-G--\n",
            "  Score=4.9\n",
            "\n"
          ]
        }
      ]
    },
    {
      "cell_type": "markdown",
      "source": [
        "# Citations\n",
        "\n",
        "https://medium.com/data-science/pairwise-sequence-alignment-using-biopython-d1a9d0ba861f"
      ],
      "metadata": {
        "id": "nhIWNAvbfsNP"
      }
    }
  ]
}